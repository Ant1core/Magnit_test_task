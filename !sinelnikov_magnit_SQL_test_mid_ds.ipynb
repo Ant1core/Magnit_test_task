{
 "cells": [
  {
   "cell_type": "markdown",
   "metadata": {},
   "source": [
    "## Import"
   ]
  },
  {
   "cell_type": "code",
   "execution_count": 44,
   "metadata": {},
   "outputs": [],
   "source": [
    "import sqlite3\n",
    "import pandas as pd\n",
    "import datetime\n",
    "\n",
    "from sqlalchemy import create_engine\n",
    "import urllib\n",
    "import pyodbc"
   ]
  },
  {
   "cell_type": "markdown",
   "metadata": {},
   "source": [
    "### Load data"
   ]
  },
  {
   "cell_type": "code",
   "execution_count": 116,
   "metadata": {},
   "outputs": [
    {
     "data": {
      "text/html": [
       "<div>\n",
       "<style scoped>\n",
       "    .dataframe tbody tr th:only-of-type {\n",
       "        vertical-align: middle;\n",
       "    }\n",
       "\n",
       "    .dataframe tbody tr th {\n",
       "        vertical-align: top;\n",
       "    }\n",
       "\n",
       "    .dataframe thead th {\n",
       "        text-align: right;\n",
       "    }\n",
       "</style>\n",
       "<table border=\"1\" class=\"dataframe\">\n",
       "  <thead>\n",
       "    <tr style=\"text-align: right;\">\n",
       "      <th></th>\n",
       "      <th>ФИО</th>\n",
       "      <th>Расписание</th>\n",
       "      <th>Дата начала расписания</th>\n",
       "      <th>Дата окончания расписания</th>\n",
       "    </tr>\n",
       "  </thead>\n",
       "  <tbody>\n",
       "    <tr>\n",
       "      <th>0</th>\n",
       "      <td>Поставщик 1</td>\n",
       "      <td>дддвсвнн</td>\n",
       "      <td>01.01.2019 0:00</td>\n",
       "      <td>10.01.2019 0:00</td>\n",
       "    </tr>\n",
       "    <tr>\n",
       "      <th>1</th>\n",
       "      <td>Поставщик 1</td>\n",
       "      <td>ннвннв</td>\n",
       "      <td>11.01.2019 0:00</td>\n",
       "      <td>15.01.2019 0:00</td>\n",
       "    </tr>\n",
       "    <tr>\n",
       "      <th>2</th>\n",
       "      <td>Поставщик 1</td>\n",
       "      <td>св</td>\n",
       "      <td>16.01.2019 0:00</td>\n",
       "      <td>20.01.2019 0:00</td>\n",
       "    </tr>\n",
       "    <tr>\n",
       "      <th>3</th>\n",
       "      <td>Поставщик 2</td>\n",
       "      <td>свсвсв</td>\n",
       "      <td>01.01.2019 0:00</td>\n",
       "      <td>07.01.2019 0:00</td>\n",
       "    </tr>\n",
       "    <tr>\n",
       "      <th>4</th>\n",
       "      <td>Поставщик 2</td>\n",
       "      <td>днвсв</td>\n",
       "      <td>08.01.2019 0:00</td>\n",
       "      <td>14.01.2019 0:00</td>\n",
       "    </tr>\n",
       "    <tr>\n",
       "      <th>5</th>\n",
       "      <td>Поставщик 2</td>\n",
       "      <td>ннддвсв</td>\n",
       "      <td>15.01.2019 0:00</td>\n",
       "      <td>31.12.9999 0:00</td>\n",
       "    </tr>\n",
       "    <tr>\n",
       "      <th>6</th>\n",
       "      <td>Поставщик 3</td>\n",
       "      <td>нвнвнв</td>\n",
       "      <td>01.01.2019 0:00</td>\n",
       "      <td>01.02.2019 0:00</td>\n",
       "    </tr>\n",
       "    <tr>\n",
       "      <th>7</th>\n",
       "      <td>Поставщик 3</td>\n",
       "      <td>двдвдвдв</td>\n",
       "      <td>02.02.2019 0:00</td>\n",
       "      <td>31.12.9999 0:00</td>\n",
       "    </tr>\n",
       "  </tbody>\n",
       "</table>\n",
       "</div>"
      ],
      "text/plain": [
       "           ФИО Расписание Дата начала расписания Дата окончания расписания\n",
       "0  Поставщик 1   дддвсвнн        01.01.2019 0:00           10.01.2019 0:00\n",
       "1  Поставщик 1     ннвннв        11.01.2019 0:00           15.01.2019 0:00\n",
       "2  Поставщик 1         св        16.01.2019 0:00           20.01.2019 0:00\n",
       "3  Поставщик 2     свсвсв        01.01.2019 0:00           07.01.2019 0:00\n",
       "4  Поставщик 2      днвсв        08.01.2019 0:00           14.01.2019 0:00\n",
       "5  Поставщик 2    ннддвсв        15.01.2019 0:00           31.12.9999 0:00\n",
       "6  Поставщик 3     нвнвнв        01.01.2019 0:00           01.02.2019 0:00\n",
       "7  Поставщик 3   двдвдвдв        02.02.2019 0:00           31.12.9999 0:00"
      ]
     },
     "execution_count": 116,
     "metadata": {},
     "output_type": "execute_result"
    }
   ],
   "source": [
    "data=pd.read_csv('D:\\junior__test_DS\\sql\\shedulers.csv', encoding='cp1251', sep=';')\n",
    "data"
   ]
  },
  {
   "cell_type": "markdown",
   "metadata": {},
   "source": [
    "**P.S. Некоторые примеры в задании не соответствуют предоставленным данным. Вероятно, данные изменили (поле расписание), а формулировка задания осталась - поэтому такой gap.**"
   ]
  },
  {
   "cell_type": "markdown",
   "metadata": {},
   "source": [
    "## Задание 1. Создать таблицу T_CONTRACTOR_SHEDULER и загрузить в неё данные"
   ]
  },
  {
   "cell_type": "code",
   "execution_count": 46,
   "metadata": {},
   "outputs": [],
   "source": [
    "quoted = urllib.parse.quote_plus(\"DRIVER={SQL Server};SERVER=DESKTOP-OM56TJJ\\SQLEXPRESS;DATABASE=testdb\")\n",
    "engine = create_engine('mssql+pyodbc:///?odbc_connect={}'.format(quoted))"
   ]
  },
  {
   "cell_type": "code",
   "execution_count": 48,
   "metadata": {},
   "outputs": [
    {
     "data": {
      "text/plain": [
       "<sqlalchemy.engine.result.ResultProxy at 0x13ea96e8388>"
      ]
     },
     "execution_count": 48,
     "metadata": {},
     "output_type": "execute_result"
    }
   ],
   "source": [
    "engine.execute('CREATE TABLE T_CONTRACTOR_SHEDULER (id INT, name VARCHAR(20),shedule VARCHAR(10),date_begin DATE,date_end DATE, PRIMARY KEY(id))')"
   ]
  },
  {
   "cell_type": "code",
   "execution_count": 49,
   "metadata": {},
   "outputs": [],
   "source": [
    "# переименуем колонки для удобства\n",
    "data_load = data.reset_index()\n",
    "data_load.columns=['id','name', 'shedule', 'date_begin', 'date_end']"
   ]
  },
  {
   "cell_type": "code",
   "execution_count": 50,
   "metadata": {},
   "outputs": [],
   "source": [
    "data_load.to_sql('T_CONTRACTOR_SHEDULER3', schema='dbo', con = engine, chunksize=200, method='multi', index=False, if_exists='replace')"
   ]
  },
  {
   "cell_type": "code",
   "execution_count": 51,
   "metadata": {},
   "outputs": [
    {
     "data": {
      "text/plain": [
       "[(0, 'Поставщик 1', 'дддвсвнн', '01.01.2019 0:00', '10.01.2019 0:00'),\n",
       " (1, 'Поставщик 1', 'ннвннв', '11.01.2019 0:00', '15.01.2019 0:00'),\n",
       " (2, 'Поставщик 1', 'св', '16.01.2019 0:00', '20.01.2019 0:00'),\n",
       " (3, 'Поставщик 2', 'свсвсв', '01.01.2019 0:00', '07.01.2019 0:00'),\n",
       " (4, 'Поставщик 2', 'днвсв', '08.01.2019 0:00', '14.01.2019 0:00'),\n",
       " (5, 'Поставщик 2', 'ннддвсв', '15.01.2019 0:00', '31.12.9999 0:00'),\n",
       " (6, 'Поставщик 3', 'нвнвнв', '01.01.2019 0:00', '01.02.2019 0:00'),\n",
       " (7, 'Поставщик 3', 'двдвдвдв', '02.02.2019 0:00', '31.12.9999 0:00')]"
      ]
     },
     "execution_count": 51,
     "metadata": {},
     "output_type": "execute_result"
    }
   ],
   "source": [
    "result = engine.execute('SELECT * FROM T_CONTRACTOR_SHEDULER3')\n",
    "result.fetchall()"
   ]
  },
  {
   "cell_type": "markdown",
   "metadata": {},
   "source": [
    "## Задание 2. Создать таблицу T_CONTRACTOR_WORK_DAY"
   ]
  },
  {
   "cell_type": "markdown",
   "metadata": {},
   "source": [
    "<code>CREATE TABLE T_CONTRACTOR_WORK_DAY(\n",
    "ID INT PRIMARY KEY,\n",
    "name VARCHAR(15),\n",
    "date_begin DATE,\n",
    "date_end DATE)</code>"
   ]
  },
  {
   "cell_type": "markdown",
   "metadata": {},
   "source": [
    "## Задание 3. Создать процедуру расчёта рабочих дней."
   ]
  },
  {
   "cell_type": "markdown",
   "metadata": {},
   "source": [
    "Честно, я не осилил реализовать работающую процедуру на своём сервере, бился долго. На Python(ниже), логика работает. Но на MSSQL ошибки и нездоровое поведение :\\\n",
    "\n",
    "Пришлось применить чит-код. Я загрузил таблицу со сгенёрнным ниже на python полным расписанием всех поставщиков в базу MSSQL, и написал процедуру, которая берёт данные уже из этой таблицы. Немного не красиво, но работает :)"
   ]
  },
  {
   "cell_type": "code",
   "execution_count": 131,
   "metadata": {},
   "outputs": [],
   "source": [
    "total_schedule.to_sql('TOTAL_SCHEDULE1', schema='dbo', con = engine, chunksize=200, method='multi', index=False, if_exists='replace')"
   ]
  },
  {
   "cell_type": "markdown",
   "metadata": {},
   "source": [
    "`CREATE PROCEDURE Get_Rasp1 @start_date DATE, @end_date DATE\n",
    "AS\n",
    "\tUPDATE T_CONTRACTOR_WORK_DAY\n",
    "\tSET name=schedule.name,\n",
    "\t\tdate_begin=schedule.start_d,\n",
    "\t\tdate_end=schedule.end_d\n",
    "\t\tFROM\n",
    "\t(SELECT name, start_d, end_d\n",
    "\tFROM dbo.TOTAL_SCHEDULE1\n",
    "\tWHERE start_d BETWEEN @start_date AND @end_date) as schedule`\n"
   ]
  },
  {
   "cell_type": "markdown",
   "metadata": {},
   "source": [
    "## Задание 4. "
   ]
  },
  {
   "cell_type": "markdown",
   "metadata": {},
   "source": [
    "Задание решил запросами к таблице с общим расписанием на год вперёд."
   ]
  },
  {
   "cell_type": "markdown",
   "metadata": {},
   "source": [
    "* Сделать выборку содержащую сколько рабочих дней было у каждого поставщика\n",
    "\n",
    "`SELECT name, COUNT(end_d)\n",
    "FROM [testdb].[dbo].[TOTAL_SCHEDULE1]\n",
    "WHERE CAST(start_d AS DATE) < '2019-01-31'\n",
    "GROUP BY name`"
   ]
  },
  {
   "cell_type": "markdown",
   "metadata": {},
   "source": [
    "* Сделать выборку поставщиков, у которыйх было больше 10 рабочих дней за январь 2019 года\n",
    "\n",
    "`SELECT name, COUNT(end_d) AS jobs\n",
    "FROM [testdb].[dbo].[TOTAL_SCHEDULE1]\n",
    "WHERE CAST(start_d AS DATE) < '2019-01-31'\n",
    "GROUP BY name\n",
    "HAVING COUNT(end_d)>10`"
   ]
  },
  {
   "cell_type": "markdown",
   "metadata": {},
   "source": [
    "* Сделать выборку поставщиков, кто работал 14, 15 и 16 января 2019 года\n",
    "\n",
    "`SELECT name\n",
    "FROM [testdb].[dbo].[TOTAL_SCHEDULE1]\n",
    "WHERE CAST(start_d AS DATE) BETWEEN '2019-01-14' AND '2019-01-17'\n",
    "GROUP BY name\n",
    "HAVING COUNT(start_d)>=3`"
   ]
  },
  {
   "cell_type": "markdown",
   "metadata": {},
   "source": [
    "## 5. Задача 3 на Python."
   ]
  },
  {
   "cell_type": "code",
   "execution_count": 117,
   "metadata": {},
   "outputs": [],
   "source": [
    "# переименуем колонки для удобства\n",
    "data.columns=['name', 'shedule', 'start_date', 'end_date']"
   ]
  },
  {
   "cell_type": "code",
   "execution_count": 118,
   "metadata": {},
   "outputs": [],
   "source": [
    "# приводим к формату datetime\n",
    "data.loc[5]['end_date']='31.12.2020 0:00'\n",
    "data.loc[7]['end_date']='31.12.2020 0:00'\n",
    "data['start_date'] = pd.to_datetime(data['start_date'], format='%d.%m.%Y %H:%M')\n",
    "data['end_date'] = pd.to_datetime(data['end_date'], format='%d.%m.%Y %H:%M', errors='coerce')"
   ]
  },
  {
   "cell_type": "code",
   "execution_count": 119,
   "metadata": {},
   "outputs": [
    {
     "name": "stdout",
     "output_type": "stream",
     "text": [
      "<class 'pandas.core.frame.DataFrame'>\n",
      "RangeIndex: 8 entries, 0 to 7\n",
      "Data columns (total 4 columns):\n",
      " #   Column      Non-Null Count  Dtype         \n",
      "---  ------      --------------  -----         \n",
      " 0   name        8 non-null      object        \n",
      " 1   shedule     8 non-null      object        \n",
      " 2   start_date  8 non-null      datetime64[ns]\n",
      " 3   end_date    8 non-null      datetime64[ns]\n",
      "dtypes: datetime64[ns](2), object(2)\n",
      "memory usage: 384.0+ bytes\n"
     ]
    }
   ],
   "source": [
    "data.info()"
   ]
  },
  {
   "cell_type": "code",
   "execution_count": 121,
   "metadata": {},
   "outputs": [],
   "source": [
    "# функция расчёта расписания в заданном интервале\n",
    "# принимает даты, расписание на даты и имя поставщика\n",
    "# строит расписание по дням и возвращает датафрейм с ним\n",
    "\n",
    "def build_sch(s_date, e_date, sched, name):\n",
    "    start_date=pd.to_datetime(s_date)\n",
    "    end_date=pd.to_datetime(e_date)\n",
    "    res=pd.DataFrame(columns=['name','start_d', 'end_d'])\n",
    "    sched=sched*500\n",
    "    curr_date=start_date\n",
    "    for i in range((end_date+datetime.timedelta(days=1)-curr_date).days):\n",
    "        if sched[i]=='д':\n",
    "            start=curr_date+datetime.timedelta(hours=8)\n",
    "            end=start+datetime.timedelta(hours=12)\n",
    "            res.loc[curr_date]=[name, start, end]\n",
    "            curr_date+=datetime.timedelta(days=1)\n",
    "        elif sched[i]=='н':\n",
    "            start=curr_date+datetime.timedelta(hours=20)\n",
    "            end=start+datetime.timedelta(hours=12)\n",
    "            res.loc[curr_date]=[name, start, end]\n",
    "            curr_date+=datetime.timedelta(days=1)\n",
    "        elif sched[i]=='с':\n",
    "            start=curr_date+datetime.timedelta(hours=8)\n",
    "            end=start+datetime.timedelta(hours=24)\n",
    "            res.loc[curr_date]=[name, start, end]\n",
    "            curr_date+=datetime.timedelta(days=1)\n",
    "        elif sched[i]=='в':\n",
    "            curr_date+=datetime.timedelta(days=1)\n",
    "    return res"
   ]
  },
  {
   "cell_type": "code",
   "execution_count": 122,
   "metadata": {},
   "outputs": [],
   "source": [
    "# глобальное расписание на ближайший год\n",
    "total_schedule=pd.DataFrame(columns=['name','start_d', 'end_d'])"
   ]
  },
  {
   "cell_type": "code",
   "execution_count": 123,
   "metadata": {},
   "outputs": [],
   "source": [
    "# функция для строк датафрейма\n",
    "# проходит по строке и строит расписание по дням, на которые действует это расписание, используя функцию build_sch\n",
    "# расписание за период дополняет в глобальное расписание для каждого поставщика\n",
    "def get_sched(row):\n",
    "    global total_schedule\n",
    "    sched = row['shedule']\n",
    "    s_date = row['start_date']\n",
    "    e_date = row['end_date']\n",
    "    n_name=row['name']\n",
    "    curr_sched = build_sch(s_date, e_date, sched, n_name)\n",
    "    total_schedule=total_schedule.append(curr_sched)"
   ]
  },
  {
   "cell_type": "code",
   "execution_count": 124,
   "metadata": {},
   "outputs": [
    {
     "data": {
      "text/plain": [
       "0    None\n",
       "1    None\n",
       "2    None\n",
       "3    None\n",
       "4    None\n",
       "5    None\n",
       "6    None\n",
       "7    None\n",
       "dtype: object"
      ]
     },
     "execution_count": 124,
     "metadata": {},
     "output_type": "execute_result"
    }
   ],
   "source": [
    "# строим общее расписание, проходя по каждой строке исходных данных\n",
    "data.apply(get_sched, axis=1)"
   ]
  },
  {
   "cell_type": "code",
   "execution_count": 125,
   "metadata": {},
   "outputs": [],
   "source": [
    "# целевая функция, возвращающая расписание за любой указанный период\n",
    "def get_result(s_date, e_date):\n",
    "    data = total_schedule.query('@s_date<start_d<@e_date')\n",
    "    data.reset_index(drop=True, inplace=True)\n",
    "    return data"
   ]
  },
  {
   "cell_type": "code",
   "execution_count": 126,
   "metadata": {},
   "outputs": [
    {
     "data": {
      "text/html": [
       "<div>\n",
       "<style scoped>\n",
       "    .dataframe tbody tr th:only-of-type {\n",
       "        vertical-align: middle;\n",
       "    }\n",
       "\n",
       "    .dataframe tbody tr th {\n",
       "        vertical-align: top;\n",
       "    }\n",
       "\n",
       "    .dataframe thead th {\n",
       "        text-align: right;\n",
       "    }\n",
       "</style>\n",
       "<table border=\"1\" class=\"dataframe\">\n",
       "  <thead>\n",
       "    <tr style=\"text-align: right;\">\n",
       "      <th></th>\n",
       "      <th>name</th>\n",
       "      <th>start_d</th>\n",
       "      <th>end_d</th>\n",
       "    </tr>\n",
       "  </thead>\n",
       "  <tbody>\n",
       "    <tr>\n",
       "      <th>0</th>\n",
       "      <td>Поставщик 1</td>\n",
       "      <td>2019-01-01 08:00:00</td>\n",
       "      <td>2019-01-01 20:00:00</td>\n",
       "    </tr>\n",
       "    <tr>\n",
       "      <th>1</th>\n",
       "      <td>Поставщик 1</td>\n",
       "      <td>2019-01-02 08:00:00</td>\n",
       "      <td>2019-01-02 20:00:00</td>\n",
       "    </tr>\n",
       "    <tr>\n",
       "      <th>2</th>\n",
       "      <td>Поставщик 1</td>\n",
       "      <td>2019-01-03 08:00:00</td>\n",
       "      <td>2019-01-03 20:00:00</td>\n",
       "    </tr>\n",
       "    <tr>\n",
       "      <th>3</th>\n",
       "      <td>Поставщик 1</td>\n",
       "      <td>2019-01-05 08:00:00</td>\n",
       "      <td>2019-01-06 08:00:00</td>\n",
       "    </tr>\n",
       "    <tr>\n",
       "      <th>4</th>\n",
       "      <td>Поставщик 1</td>\n",
       "      <td>2019-01-07 20:00:00</td>\n",
       "      <td>2019-01-08 08:00:00</td>\n",
       "    </tr>\n",
       "    <tr>\n",
       "      <th>5</th>\n",
       "      <td>Поставщик 2</td>\n",
       "      <td>2019-01-01 08:00:00</td>\n",
       "      <td>2019-01-02 08:00:00</td>\n",
       "    </tr>\n",
       "    <tr>\n",
       "      <th>6</th>\n",
       "      <td>Поставщик 2</td>\n",
       "      <td>2019-01-03 08:00:00</td>\n",
       "      <td>2019-01-04 08:00:00</td>\n",
       "    </tr>\n",
       "    <tr>\n",
       "      <th>7</th>\n",
       "      <td>Поставщик 2</td>\n",
       "      <td>2019-01-05 08:00:00</td>\n",
       "      <td>2019-01-06 08:00:00</td>\n",
       "    </tr>\n",
       "    <tr>\n",
       "      <th>8</th>\n",
       "      <td>Поставщик 2</td>\n",
       "      <td>2019-01-07 08:00:00</td>\n",
       "      <td>2019-01-08 08:00:00</td>\n",
       "    </tr>\n",
       "    <tr>\n",
       "      <th>9</th>\n",
       "      <td>Поставщик 3</td>\n",
       "      <td>2019-01-01 20:00:00</td>\n",
       "      <td>2019-01-02 08:00:00</td>\n",
       "    </tr>\n",
       "    <tr>\n",
       "      <th>10</th>\n",
       "      <td>Поставщик 3</td>\n",
       "      <td>2019-01-03 20:00:00</td>\n",
       "      <td>2019-01-04 08:00:00</td>\n",
       "    </tr>\n",
       "    <tr>\n",
       "      <th>11</th>\n",
       "      <td>Поставщик 3</td>\n",
       "      <td>2019-01-05 20:00:00</td>\n",
       "      <td>2019-01-06 08:00:00</td>\n",
       "    </tr>\n",
       "    <tr>\n",
       "      <th>12</th>\n",
       "      <td>Поставщик 3</td>\n",
       "      <td>2019-01-07 20:00:00</td>\n",
       "      <td>2019-01-08 08:00:00</td>\n",
       "    </tr>\n",
       "  </tbody>\n",
       "</table>\n",
       "</div>"
      ],
      "text/plain": [
       "           name             start_d               end_d\n",
       "0   Поставщик 1 2019-01-01 08:00:00 2019-01-01 20:00:00\n",
       "1   Поставщик 1 2019-01-02 08:00:00 2019-01-02 20:00:00\n",
       "2   Поставщик 1 2019-01-03 08:00:00 2019-01-03 20:00:00\n",
       "3   Поставщик 1 2019-01-05 08:00:00 2019-01-06 08:00:00\n",
       "4   Поставщик 1 2019-01-07 20:00:00 2019-01-08 08:00:00\n",
       "5   Поставщик 2 2019-01-01 08:00:00 2019-01-02 08:00:00\n",
       "6   Поставщик 2 2019-01-03 08:00:00 2019-01-04 08:00:00\n",
       "7   Поставщик 2 2019-01-05 08:00:00 2019-01-06 08:00:00\n",
       "8   Поставщик 2 2019-01-07 08:00:00 2019-01-08 08:00:00\n",
       "9   Поставщик 3 2019-01-01 20:00:00 2019-01-02 08:00:00\n",
       "10  Поставщик 3 2019-01-03 20:00:00 2019-01-04 08:00:00\n",
       "11  Поставщик 3 2019-01-05 20:00:00 2019-01-06 08:00:00\n",
       "12  Поставщик 3 2019-01-07 20:00:00 2019-01-08 08:00:00"
      ]
     },
     "execution_count": 126,
     "metadata": {},
     "output_type": "execute_result"
    }
   ],
   "source": [
    "get_result('2019-01-01', '2019-01-08')"
   ]
  },
  {
   "cell_type": "markdown",
   "metadata": {},
   "source": [
    "# 6. Задача 4 с помощью Python:\n",
    "\n",
    "* Сделать выборку содержащую сколько рабочих дней было у каждого поставщика"
   ]
  },
  {
   "cell_type": "code",
   "execution_count": 127,
   "metadata": {},
   "outputs": [
    {
     "data": {
      "text/html": [
       "<div>\n",
       "<style scoped>\n",
       "    .dataframe tbody tr th:only-of-type {\n",
       "        vertical-align: middle;\n",
       "    }\n",
       "\n",
       "    .dataframe tbody tr th {\n",
       "        vertical-align: top;\n",
       "    }\n",
       "\n",
       "    .dataframe thead th {\n",
       "        text-align: right;\n",
       "    }\n",
       "</style>\n",
       "<table border=\"1\" class=\"dataframe\">\n",
       "  <thead>\n",
       "    <tr style=\"text-align: right;\">\n",
       "      <th></th>\n",
       "      <th>start_d</th>\n",
       "      <th>end_d</th>\n",
       "    </tr>\n",
       "    <tr>\n",
       "      <th>name</th>\n",
       "      <th></th>\n",
       "      <th></th>\n",
       "    </tr>\n",
       "  </thead>\n",
       "  <tbody>\n",
       "    <tr>\n",
       "      <th>Поставщик 1</th>\n",
       "      <td>15</td>\n",
       "      <td>15</td>\n",
       "    </tr>\n",
       "    <tr>\n",
       "      <th>Поставщик 2</th>\n",
       "      <td>21</td>\n",
       "      <td>21</td>\n",
       "    </tr>\n",
       "    <tr>\n",
       "      <th>Поставщик 3</th>\n",
       "      <td>15</td>\n",
       "      <td>15</td>\n",
       "    </tr>\n",
       "  </tbody>\n",
       "</table>\n",
       "</div>"
      ],
      "text/plain": [
       "             start_d  end_d\n",
       "name                       \n",
       "Поставщик 1       15     15\n",
       "Поставщик 2       21     21\n",
       "Поставщик 3       15     15"
      ]
     },
     "execution_count": 127,
     "metadata": {},
     "output_type": "execute_result"
    }
   ],
   "source": [
    "# тут не очень понятно за какой период спрашивается...\n",
    "# ну допустим за январь 2019\n",
    "\n",
    "jan_works = get_result('2019-01-01', '2019-01-31')\n",
    "jan_works.groupby('name').count()"
   ]
  },
  {
   "cell_type": "markdown",
   "metadata": {},
   "source": [
    "* Сделать выборку поставщиков, у которыйх было больше 10 рабочих дней за январь 2019 года"
   ]
  },
  {
   "cell_type": "code",
   "execution_count": 129,
   "metadata": {},
   "outputs": [
    {
     "data": {
      "text/plain": [
       "name\n",
       "Поставщик 1    True\n",
       "Поставщик 2    True\n",
       "Поставщик 3    True\n",
       "Name: start_d, dtype: bool"
      ]
     },
     "execution_count": 129,
     "metadata": {},
     "output_type": "execute_result"
    }
   ],
   "source": [
    "jan_works.groupby('name').count()['start_d']>10"
   ]
  },
  {
   "cell_type": "markdown",
   "metadata": {},
   "source": [
    "* Сделать выборку поставщиков, кто работал 14, 15 и 16 января 2019 года"
   ]
  },
  {
   "cell_type": "code",
   "execution_count": 130,
   "metadata": {},
   "outputs": [
    {
     "data": {
      "text/plain": [
       "name\n",
       "Поставщик 1     True\n",
       "Поставщик 2     True\n",
       "Поставщик 3    False\n",
       "Name: start_d, dtype: bool"
      ]
     },
     "execution_count": 130,
     "metadata": {},
     "output_type": "execute_result"
    }
   ],
   "source": [
    "(get_result('2019-01-14', '2019-01-17').groupby('name').count()==3)['start_d']"
   ]
  }
 ],
 "metadata": {
  "kernelspec": {
   "display_name": "Python 3",
   "language": "python",
   "name": "python3"
  },
  "language_info": {
   "codemirror_mode": {
    "name": "ipython",
    "version": 3
   },
   "file_extension": ".py",
   "mimetype": "text/x-python",
   "name": "python",
   "nbconvert_exporter": "python",
   "pygments_lexer": "ipython3",
   "version": "3.7.7"
  }
 },
 "nbformat": 4,
 "nbformat_minor": 4
}
