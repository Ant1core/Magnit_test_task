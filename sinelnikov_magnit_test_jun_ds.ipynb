{
 "cells": [
  {
   "cell_type": "markdown",
   "metadata": {},
   "source": [
    "### Импорт"
   ]
  },
  {
   "cell_type": "code",
   "execution_count": 1,
   "metadata": {},
   "outputs": [],
   "source": [
    "import pandas as pd\n",
    "import numpy as np\n",
    "from matplotlib import pyplot as plt\n",
    "import seaborn as sns\n",
    "\n",
    "from sklearn.preprocessing import StandardScaler\n",
    "from sklearn.linear_model import LogisticRegression\n",
    "from sklearn.linear_model import LinearRegression\n",
    "\n",
    "import xgboost as xgb\n",
    "import catboost as cb\n",
    "\n",
    "from sklearn.model_selection import GridSearchCV\n",
    "from sklearn.model_selection import train_test_split\n",
    "\n",
    "from sklearn.metrics import r2_score\n",
    "from sklearn.metrics import mean_squared_error\n",
    "from sklearn.metrics import f1_score\n",
    "from sklearn.metrics import roc_curve\n",
    "from sklearn.metrics import roc_auc_score\n",
    "\n",
    "import warnings\n",
    "warnings.filterwarnings('ignore')"
   ]
  },
  {
   "cell_type": "markdown",
   "metadata": {},
   "source": [
    "# Задача 1:\n",
    "1. Проведите аналитику полученных данных\n",
    "2. Подготовьте данные для регрессионной модели\n",
    "3. Обучите регрессионную модель и осуществите прогноз на последний месяц для поля SALES\n",
    "4. Оцените качество модели с помощью функции metric"
   ]
  },
  {
   "cell_type": "markdown",
   "metadata": {},
   "source": [
    "### 1. Загрузка данных"
   ]
  },
  {
   "cell_type": "code",
   "execution_count": 2,
   "metadata": {},
   "outputs": [],
   "source": [
    "df = pd.read_csv(r'D:\\junior__test_DS\\junior\\regression\\data_regression_for_task.csv')"
   ]
  },
  {
   "cell_type": "code",
   "execution_count": 3,
   "metadata": {},
   "outputs": [
    {
     "data": {
      "text/html": [
       "<div>\n",
       "<style scoped>\n",
       "    .dataframe tbody tr th:only-of-type {\n",
       "        vertical-align: middle;\n",
       "    }\n",
       "\n",
       "    .dataframe tbody tr th {\n",
       "        vertical-align: top;\n",
       "    }\n",
       "\n",
       "    .dataframe thead th {\n",
       "        text-align: right;\n",
       "    }\n",
       "</style>\n",
       "<table border=\"1\" class=\"dataframe\">\n",
       "  <thead>\n",
       "    <tr style=\"text-align: right;\">\n",
       "      <th></th>\n",
       "      <th>YEAR</th>\n",
       "      <th>MONTH</th>\n",
       "      <th>CONTRAGENT</th>\n",
       "      <th>ARTICLE_CODE</th>\n",
       "      <th>ARTICLE_NAME</th>\n",
       "      <th>ARTICLE_GROUP</th>\n",
       "      <th>SALES</th>\n",
       "      <th>STORE_SALES</th>\n",
       "    </tr>\n",
       "  </thead>\n",
       "  <tbody>\n",
       "    <tr>\n",
       "      <th>0</th>\n",
       "      <td>2017</td>\n",
       "      <td>4</td>\n",
       "      <td>ROYAL WINE CORP</td>\n",
       "      <td>100200</td>\n",
       "      <td>GAMLA CAB - 750ML</td>\n",
       "      <td>WINE</td>\n",
       "      <td>0.0</td>\n",
       "      <td>0.0</td>\n",
       "    </tr>\n",
       "    <tr>\n",
       "      <th>1</th>\n",
       "      <td>2017</td>\n",
       "      <td>4</td>\n",
       "      <td>SANTA MARGHERITA USA INC</td>\n",
       "      <td>100749</td>\n",
       "      <td>SANTA MARGHERITA P/GRIG ALTO - 375ML</td>\n",
       "      <td>WINE</td>\n",
       "      <td>0.0</td>\n",
       "      <td>0.0</td>\n",
       "    </tr>\n",
       "    <tr>\n",
       "      <th>2</th>\n",
       "      <td>2017</td>\n",
       "      <td>4</td>\n",
       "      <td>JIM BEAM BRANDS CO</td>\n",
       "      <td>10103</td>\n",
       "      <td>KNOB CREEK BOURBON 9YR - 100P - 375ML</td>\n",
       "      <td>LIQUOR</td>\n",
       "      <td>0.0</td>\n",
       "      <td>0.0</td>\n",
       "    </tr>\n",
       "    <tr>\n",
       "      <th>3</th>\n",
       "      <td>2017</td>\n",
       "      <td>4</td>\n",
       "      <td>HEAVEN HILL DISTILLERIES INC</td>\n",
       "      <td>10120</td>\n",
       "      <td>J W DANT BOURBON 100P - 1.75L</td>\n",
       "      <td>LIQUOR</td>\n",
       "      <td>0.0</td>\n",
       "      <td>0.0</td>\n",
       "    </tr>\n",
       "    <tr>\n",
       "      <th>4</th>\n",
       "      <td>2017</td>\n",
       "      <td>4</td>\n",
       "      <td>ROYAL WINE CORP</td>\n",
       "      <td>101664</td>\n",
       "      <td>RAMON CORDOVA RIOJA - 750ML</td>\n",
       "      <td>WINE</td>\n",
       "      <td>0.0</td>\n",
       "      <td>0.0</td>\n",
       "    </tr>\n",
       "    <tr>\n",
       "      <th>5</th>\n",
       "      <td>2017</td>\n",
       "      <td>4</td>\n",
       "      <td>REPUBLIC NATIONAL DISTRIBUTING CO</td>\n",
       "      <td>101680</td>\n",
       "      <td>MANISCHEWITZ CREAM WH CONCORD - 1.5L</td>\n",
       "      <td>WINE</td>\n",
       "      <td>0.0</td>\n",
       "      <td>0.0</td>\n",
       "    </tr>\n",
       "    <tr>\n",
       "      <th>6</th>\n",
       "      <td>2017</td>\n",
       "      <td>4</td>\n",
       "      <td>ROYAL WINE CORP</td>\n",
       "      <td>101753</td>\n",
       "      <td>BARKAN CLASSIC PET SYR - 750ML</td>\n",
       "      <td>WINE</td>\n",
       "      <td>0.0</td>\n",
       "      <td>0.0</td>\n",
       "    </tr>\n",
       "    <tr>\n",
       "      <th>7</th>\n",
       "      <td>2017</td>\n",
       "      <td>4</td>\n",
       "      <td>JIM BEAM BRANDS CO</td>\n",
       "      <td>10197</td>\n",
       "      <td>KNOB CREEK BOURBON 9YR - 100P - 1.75L</td>\n",
       "      <td>LIQUOR</td>\n",
       "      <td>0.0</td>\n",
       "      <td>0.0</td>\n",
       "    </tr>\n",
       "    <tr>\n",
       "      <th>8</th>\n",
       "      <td>2017</td>\n",
       "      <td>4</td>\n",
       "      <td>STE MICHELLE WINE ESTATES</td>\n",
       "      <td>101974</td>\n",
       "      <td>CH ST MICH P/GRIS - 750ML</td>\n",
       "      <td>WINE</td>\n",
       "      <td>0.0</td>\n",
       "      <td>0.0</td>\n",
       "    </tr>\n",
       "    <tr>\n",
       "      <th>9</th>\n",
       "      <td>2017</td>\n",
       "      <td>4</td>\n",
       "      <td>MONSIEUR TOUTON SELECTION</td>\n",
       "      <td>102083</td>\n",
       "      <td>CH DE LA CHESNAIE MUSCADET - 750ML</td>\n",
       "      <td>WINE</td>\n",
       "      <td>0.0</td>\n",
       "      <td>0.0</td>\n",
       "    </tr>\n",
       "  </tbody>\n",
       "</table>\n",
       "</div>"
      ],
      "text/plain": [
       "   YEAR  MONTH                         CONTRAGENT ARTICLE_CODE  \\\n",
       "0  2017      4                    ROYAL WINE CORP       100200   \n",
       "1  2017      4           SANTA MARGHERITA USA INC       100749   \n",
       "2  2017      4                 JIM BEAM BRANDS CO        10103   \n",
       "3  2017      4       HEAVEN HILL DISTILLERIES INC        10120   \n",
       "4  2017      4                    ROYAL WINE CORP       101664   \n",
       "5  2017      4  REPUBLIC NATIONAL DISTRIBUTING CO       101680   \n",
       "6  2017      4                    ROYAL WINE CORP       101753   \n",
       "7  2017      4                 JIM BEAM BRANDS CO        10197   \n",
       "8  2017      4          STE MICHELLE WINE ESTATES       101974   \n",
       "9  2017      4          MONSIEUR TOUTON SELECTION       102083   \n",
       "\n",
       "                            ARTICLE_NAME ARTICLE_GROUP  SALES  STORE_SALES  \n",
       "0                      GAMLA CAB - 750ML          WINE    0.0          0.0  \n",
       "1   SANTA MARGHERITA P/GRIG ALTO - 375ML          WINE    0.0          0.0  \n",
       "2  KNOB CREEK BOURBON 9YR - 100P - 375ML        LIQUOR    0.0          0.0  \n",
       "3          J W DANT BOURBON 100P - 1.75L        LIQUOR    0.0          0.0  \n",
       "4            RAMON CORDOVA RIOJA - 750ML          WINE    0.0          0.0  \n",
       "5   MANISCHEWITZ CREAM WH CONCORD - 1.5L          WINE    0.0          0.0  \n",
       "6         BARKAN CLASSIC PET SYR - 750ML          WINE    0.0          0.0  \n",
       "7  KNOB CREEK BOURBON 9YR - 100P - 1.75L        LIQUOR    0.0          0.0  \n",
       "8              CH ST MICH P/GRIS - 750ML          WINE    0.0          0.0  \n",
       "9     CH DE LA CHESNAIE MUSCADET - 750ML          WINE    0.0          0.0  "
      ]
     },
     "execution_count": 3,
     "metadata": {},
     "output_type": "execute_result"
    }
   ],
   "source": [
    "df.head(10)"
   ]
  },
  {
   "cell_type": "markdown",
   "metadata": {},
   "source": [
    "**Описание:**\n",
    "\n",
    "* YEAR: год продажи\n",
    "* MONTH: месяц продажи\n",
    "* CONTRAGENT: поставщик товарной позиции\n",
    "* ARTICLE_CODE: код товарной позиции\n",
    "* ARTICLE_NAME: название товарной позиции\n",
    "* ARTICLE_GROUP: название группы товарных позиций\n",
    "* SALES: продажи товарной позиции в этот месяц и год (целевая переменная)\n",
    "* STORE_SALES: продажи всего магазина"
   ]
  },
  {
   "cell_type": "markdown",
   "metadata": {},
   "source": [
    "### 2. Анализ данных"
   ]
  },
  {
   "cell_type": "code",
   "execution_count": 4,
   "metadata": {},
   "outputs": [
    {
     "name": "stdout",
     "output_type": "stream",
     "text": [
      "<class 'pandas.core.frame.DataFrame'>\n",
      "RangeIndex: 128355 entries, 0 to 128354\n",
      "Data columns (total 8 columns):\n",
      " #   Column         Non-Null Count   Dtype  \n",
      "---  ------         --------------   -----  \n",
      " 0   YEAR           128355 non-null  int64  \n",
      " 1   MONTH          128355 non-null  int64  \n",
      " 2   CONTRAGENT     128331 non-null  object \n",
      " 3   ARTICLE_CODE   128355 non-null  object \n",
      " 4   ARTICLE_NAME   128355 non-null  object \n",
      " 5   ARTICLE_GROUP  128354 non-null  object \n",
      " 6   SALES          128355 non-null  float64\n",
      " 7   STORE_SALES    128355 non-null  float64\n",
      "dtypes: float64(2), int64(2), object(4)\n",
      "memory usage: 7.8+ MB\n"
     ]
    }
   ],
   "source": [
    "df.info()"
   ]
  },
  {
   "cell_type": "code",
   "execution_count": 5,
   "metadata": {},
   "outputs": [
    {
     "data": {
      "text/html": [
       "<div>\n",
       "<style scoped>\n",
       "    .dataframe tbody tr th:only-of-type {\n",
       "        vertical-align: middle;\n",
       "    }\n",
       "\n",
       "    .dataframe tbody tr th {\n",
       "        vertical-align: top;\n",
       "    }\n",
       "\n",
       "    .dataframe thead th {\n",
       "        text-align: right;\n",
       "    }\n",
       "</style>\n",
       "<table border=\"1\" class=\"dataframe\">\n",
       "  <thead>\n",
       "    <tr style=\"text-align: right;\">\n",
       "      <th></th>\n",
       "      <th>YEAR</th>\n",
       "      <th>MONTH</th>\n",
       "      <th>SALES</th>\n",
       "      <th>STORE_SALES</th>\n",
       "    </tr>\n",
       "  </thead>\n",
       "  <tbody>\n",
       "    <tr>\n",
       "      <th>count</th>\n",
       "      <td>128355.000000</td>\n",
       "      <td>128355.000000</td>\n",
       "      <td>1.283550e+05</td>\n",
       "      <td>128355.000000</td>\n",
       "    </tr>\n",
       "    <tr>\n",
       "      <th>mean</th>\n",
       "      <td>2017.206030</td>\n",
       "      <td>7.079303</td>\n",
       "      <td>6.563037e+03</td>\n",
       "      <td>22.624213</td>\n",
       "    </tr>\n",
       "    <tr>\n",
       "      <th>std</th>\n",
       "      <td>0.404454</td>\n",
       "      <td>3.645826</td>\n",
       "      <td>2.892494e+04</td>\n",
       "      <td>239.693277</td>\n",
       "    </tr>\n",
       "    <tr>\n",
       "      <th>min</th>\n",
       "      <td>2017.000000</td>\n",
       "      <td>1.000000</td>\n",
       "      <td>-6.490000e+03</td>\n",
       "      <td>-4996.000000</td>\n",
       "    </tr>\n",
       "    <tr>\n",
       "      <th>25%</th>\n",
       "      <td>2017.000000</td>\n",
       "      <td>5.000000</td>\n",
       "      <td>0.000000e+00</td>\n",
       "      <td>0.000000</td>\n",
       "    </tr>\n",
       "    <tr>\n",
       "      <th>50%</th>\n",
       "      <td>2017.000000</td>\n",
       "      <td>8.000000</td>\n",
       "      <td>3.300000e+02</td>\n",
       "      <td>1.000000</td>\n",
       "    </tr>\n",
       "    <tr>\n",
       "      <th>75%</th>\n",
       "      <td>2017.000000</td>\n",
       "      <td>10.000000</td>\n",
       "      <td>3.250000e+03</td>\n",
       "      <td>4.000000</td>\n",
       "    </tr>\n",
       "    <tr>\n",
       "      <th>max</th>\n",
       "      <td>2018.000000</td>\n",
       "      <td>12.000000</td>\n",
       "      <td>1.616600e+06</td>\n",
       "      <td>16271.750000</td>\n",
       "    </tr>\n",
       "  </tbody>\n",
       "</table>\n",
       "</div>"
      ],
      "text/plain": [
       "                YEAR          MONTH         SALES    STORE_SALES\n",
       "count  128355.000000  128355.000000  1.283550e+05  128355.000000\n",
       "mean     2017.206030       7.079303  6.563037e+03      22.624213\n",
       "std         0.404454       3.645826  2.892494e+04     239.693277\n",
       "min      2017.000000       1.000000 -6.490000e+03   -4996.000000\n",
       "25%      2017.000000       5.000000  0.000000e+00       0.000000\n",
       "50%      2017.000000       8.000000  3.300000e+02       1.000000\n",
       "75%      2017.000000      10.000000  3.250000e+03       4.000000\n",
       "max      2018.000000      12.000000  1.616600e+06   16271.750000"
      ]
     },
     "execution_count": 5,
     "metadata": {},
     "output_type": "execute_result"
    }
   ],
   "source": [
    "df.describe()"
   ]
  },
  {
   "cell_type": "markdown",
   "metadata": {},
   "source": [
    "1. В данных содержатся пропуски, которые необходимо удалить. В данном случае мы из просто отбросим, т.к. их не много.\n",
    "2. В признаках `SALES` и `STORE_SALES` присутствуют существенные выбросы, а также отрицательные значения. Природа выбросов не совсем понятна, но отрицательно скажется на качестве модели. Поэтому данные с выбросами использоваться для обучения не будут. В качестве границы отсечения я выбрал значение, чтобы потерять не более 5% данных. Это значения 50000 и 100 для `SALES`  и `STORE_SALES` соответственно."
   ]
  },
  {
   "cell_type": "code",
   "execution_count": 6,
   "metadata": {},
   "outputs": [
    {
     "data": {
      "image/png": "[encoded data removed]",
      "text/plain": [
       "<Figure size 432x288 with 1 Axes>"
      ]
     },
     "metadata": {
      "needs_background": "light"
     },
     "output_type": "display_data"
    }
   ],
   "source": [
    "df=df.query('(SALES<50000) & (SALES>=0)')\n",
    "plt.boxplot(df['SALES'])\n",
    "plt.title('Диаграмма размаха для SALES')\n",
    "plt.show()"
   ]
  },
  {
   "cell_type": "code",
   "execution_count": 7,
   "metadata": {},
   "outputs": [
    {
     "data": {
      "image/png": "[encoded data removed]",
      "text/plain": [
       "<Figure size 432x288 with 1 Axes>"
      ]
     },
     "metadata": {
      "needs_background": "light"
     },
     "output_type": "display_data"
    }
   ],
   "source": [
    "df=df.query('0<=STORE_SALES<100')\n",
    "plt.boxplot(df['STORE_SALES'])\n",
    "plt.title('Диаграмма размаха для STORE_SALES')\n",
    "plt.show()"
   ]
  },
  {
   "cell_type": "markdown",
   "metadata": {},
   "source": [
    "Для обучения также будут использоваться признаки `CONTRAGENT` и `ARTICLE_GROUP`, в качестве категориальных признаков, кодированных One-Hot-Encoding."
   ]
  },
  {
   "cell_type": "code",
   "execution_count": 8,
   "metadata": {},
   "outputs": [
    {
     "data": {
      "image/png": "[encoded data removed]",
      "text/plain": [
       "<Figure size 720x360 with 1 Axes>"
      ]
     },
     "metadata": {
      "needs_background": "light"
     },
     "output_type": "display_data"
    }
   ],
   "source": [
    "plt.figure(figsize=(10,5))\n",
    "plt.hist(df['ARTICLE_GROUP'])\n",
    "plt.title('Распределение ARTICLE_GROUP')\n",
    "plt.show()"
   ]
  },
  {
   "cell_type": "markdown",
   "metadata": {},
   "source": [
    "### 3. Подготовка признаков и выборок"
   ]
  },
  {
   "cell_type": "code",
   "execution_count": 9,
   "metadata": {},
   "outputs": [
    {
     "name": "stdout",
     "output_type": "stream",
     "text": [
      "<class 'pandas.core.frame.DataFrame'>\n",
      "Int64Index: 122194 entries, 0 to 128352\n",
      "Data columns (total 8 columns):\n",
      " #   Column         Non-Null Count   Dtype  \n",
      "---  ------         --------------   -----  \n",
      " 0   YEAR           122194 non-null  int64  \n",
      " 1   MONTH          122194 non-null  int64  \n",
      " 2   CONTRAGENT     122194 non-null  object \n",
      " 3   ARTICLE_CODE   122194 non-null  object \n",
      " 4   ARTICLE_NAME   122194 non-null  object \n",
      " 5   ARTICLE_GROUP  122193 non-null  object \n",
      " 6   SALES          122194 non-null  float64\n",
      " 7   STORE_SALES    122194 non-null  float64\n",
      "dtypes: float64(2), int64(2), object(4)\n",
      "memory usage: 8.4+ MB\n"
     ]
    }
   ],
   "source": [
    "df.info()"
   ]
  },
  {
   "cell_type": "code",
   "execution_count": 10,
   "metadata": {},
   "outputs": [],
   "source": [
    "# удаление пропусков\n",
    "df.dropna(inplace=True)\n",
    "\n",
    "# удаление неиспользуемых признаков\n",
    "df = df.drop(['ARTICLE_CODE', 'ARTICLE_NAME'], axis=1)"
   ]
  },
  {
   "cell_type": "code",
   "execution_count": 11,
   "metadata": {},
   "outputs": [],
   "source": [
    "# кодирование OHE\n",
    "df=pd.get_dummies(df, columns=['CONTRAGENT', 'ARTICLE_GROUP'])"
   ]
  },
  {
   "cell_type": "code",
   "execution_count": 12,
   "metadata": {},
   "outputs": [],
   "source": [
    "# разбивка на train-test\n",
    "# в тесте - февраль 2018 г.\n",
    "df_train = df.query('YEAR!=2018 & MONTH!=2')\n",
    "df_test = df.query('YEAR==2018 & MONTH==2')"
   ]
  },
  {
   "cell_type": "markdown",
   "metadata": {},
   "source": [
    "Разбиваем данные для трейн\\тест."
   ]
  },
  {
   "cell_type": "code",
   "execution_count": 13,
   "metadata": {},
   "outputs": [
    {
     "name": "stdout",
     "output_type": "stream",
     "text": [
      "Features train: (96935, 343)\n",
      "Target train: (96935,)\n",
      "Features test: (12511, 343)\n",
      "Target test: (12511,)\n"
     ]
    }
   ],
   "source": [
    "X_train = df_train.drop(['SALES'], axis=1)\n",
    "y_train = df_train['SALES']\n",
    "\n",
    "X_test = df_test.drop(['SALES'], axis=1)\n",
    "y_test = df_test['SALES']\n",
    "\n",
    "print('Features train:', X_train.shape)\n",
    "print('Target train:', y_train.shape)\n",
    "print('Features test:', X_test.shape)\n",
    "print('Target test:', y_test.shape)"
   ]
  },
  {
   "cell_type": "markdown",
   "metadata": {},
   "source": [
    "### 4. Обучение и тестирование модели"
   ]
  },
  {
   "cell_type": "code",
   "execution_count": 14,
   "metadata": {},
   "outputs": [],
   "source": [
    "# метирика\n",
    "def metric(y_true, y_pred):\n",
    "    \n",
    "    return np.sum(np.abs(y_true - y_pred)) / np.sum(y_pred) * 100"
   ]
  },
  {
   "cell_type": "code",
   "execution_count": 15,
   "metadata": {},
   "outputs": [],
   "source": [
    "# дата-фрейм для результатов\n",
    "results = pd.DataFrame(columns=['Metric'])"
   ]
  },
  {
   "cell_type": "markdown",
   "metadata": {},
   "source": [
    "#### 4.1 Dummy-модели (константная медиана и среднее)"
   ]
  },
  {
   "cell_type": "code",
   "execution_count": 16,
   "metadata": {},
   "outputs": [
    {
     "name": "stdout",
     "output_type": "stream",
     "text": [
      "Метрика для константной модели(медиана): 1303.8269656036023\n",
      "Метрика для константной модели(среднее): 128.45729210520201\n"
     ]
    }
   ],
   "source": [
    "pred_median = np.full(y_test.shape, np.median(y_train))\n",
    "pred_mean = np.full(y_test.shape, np.mean(y_train))\n",
    "\n",
    "results.loc['Constant_Median'] = metric(y_test, pred_median)\n",
    "results.loc['Constant_Mean'] = metric(y_test, pred_mean)\n",
    "\n",
    "print('Метрика для константной модели(медиана):', metric(y_test, pred_median))\n",
    "print('Метрика для константной модели(среднее):', metric(y_test, pred_mean))"
   ]
  },
  {
   "cell_type": "markdown",
   "metadata": {},
   "source": [
    "#### 4.2 LinearRegression"
   ]
  },
  {
   "cell_type": "code",
   "execution_count": 17,
   "metadata": {},
   "outputs": [
    {
     "name": "stdout",
     "output_type": "stream",
     "text": [
      "Метрика для модели линейной регрессии: 178.57586394596115\n"
     ]
    }
   ],
   "source": [
    "lr_m=LinearRegression()\n",
    "lr_m.fit(X_train,y_train)\n",
    "lr_pred = lr_m.predict(X_test)\n",
    "\n",
    "results.loc['LinearRegression']=metric(y_test, lr_pred)\n",
    "\n",
    "print('Метрика для модели линейной регрессии:', metric(y_test, lr_pred))"
   ]
  },
  {
   "cell_type": "markdown",
   "metadata": {},
   "source": [
    "#### 4.3 XGBoostRegressor"
   ]
  },
  {
   "cell_type": "code",
   "execution_count": 18,
   "metadata": {},
   "outputs": [],
   "source": [
    "def XGB_cv_grid():\n",
    "    xgb_m = xgb.XGBRegressor(random_state=112211)\n",
    "    param_grid = {\n",
    "            \"n_estimators\"      : [200,],\n",
    "            \"learning_rate\"     : [0.1, 1],\n",
    "            \"max_depth\" : [20],\n",
    "            \"gamma\" : [0.1],\n",
    "            \"reg_lambda\": [5],\n",
    "            \"min_child_weight\" : [4]\n",
    "            }\n",
    "\n",
    "    xgb_grid = GridSearchCV(xgb_m, param_grid, n_jobs=-1, cv=3, scoring='neg_root_mean_squared_error')\n",
    "    xgb_grid.fit(X_train, y_train)\n",
    "\n",
    "    print('...Search completed...')\n",
    "    print('Best params:', xgb_grid.best_params_)\n",
    "    return xgb_grid.best_params_"
   ]
  },
  {
   "cell_type": "code",
   "execution_count": 19,
   "metadata": {},
   "outputs": [],
   "source": [
    "#xgb_params = XGB_cv_grid()\n",
    "xgb_params={'gamma': 0.1, 'learning_rate': 0.1, 'max_depth': 20, 'min_child_weight': 4, 'n_estimators': 100, 'reg_lambda': 5}"
   ]
  },
  {
   "cell_type": "code",
   "execution_count": 20,
   "metadata": {},
   "outputs": [
    {
     "data": {
      "text/plain": [
       "XGBRegressor(base_score=0.5, booster='gbtree', colsample_bylevel=1,\n",
       "             colsample_bynode=1, colsample_bytree=1, gamma=0.1, gpu_id=-1,\n",
       "             importance_type='gain', interaction_constraints='',\n",
       "             learning_rate=0.1, max_delta_step=0, max_depth=20,\n",
       "             min_child_weight=4, missing=nan, monotone_constraints='()',\n",
       "             n_estimators=100, n_jobs=8, num_parallel_tree=1, random_state=0,\n",
       "             reg_alpha=0, reg_lambda=5, scale_pos_weight=1, subsample=1,\n",
       "             tree_method='exact', validate_parameters=1, verbosity=None)"
      ]
     },
     "execution_count": 20,
     "metadata": {},
     "output_type": "execute_result"
    }
   ],
   "source": [
    "xgb_model = xgb.XGBRegressor(**xgb_params)\n",
    "xgb_model.fit(X_train, y_train)"
   ]
  },
  {
   "cell_type": "code",
   "execution_count": 21,
   "metadata": {},
   "outputs": [],
   "source": [
    "xgb_pred = xgb_model.predict(X_test)"
   ]
  },
  {
   "cell_type": "code",
   "execution_count": 22,
   "metadata": {},
   "outputs": [
    {
     "name": "stdout",
     "output_type": "stream",
     "text": [
      "Метрика для модели XGBRegressor: 112.98502127941205\n"
     ]
    }
   ],
   "source": [
    "results.loc['XGBRegressor']=metric(y_test, xgb_pred)\n",
    "print('Метрика для модели XGBRegressor:', metric(y_test, xgb_pred))"
   ]
  },
  {
   "cell_type": "markdown",
   "metadata": {},
   "source": [
    "### Результаты:\n",
    "\n",
    "Входными данными были данные о продаже различных товаров в магазине по месяцам. \n",
    "\n",
    "Данные были обработаны, удалены пропуски и выбросы. Были подготовлены признаки для обучения моделей. В качестве целевого признака выступала сумма продаж `SALES`.\n",
    "Тестовые данные - данные на последний месяц (февраль 2018 г.).\n",
    "\n",
    "Были обучены различные модели и рассчитана целевая метрика для каждой из них. Лучшие значения метрики показаны на бустинговой модели.\n",
    "\n",
    "**Предложения для развития:**\n",
    "1. Понять природу выбросов и пропусков в данных.\n",
    "2. Собрать больше признаков для обучения, больший диапазон по времени.\n",
    "3. Тюнинг бустинговой модели для повышения целевой метрики.\n"
   ]
  },
  {
   "cell_type": "code",
   "execution_count": 23,
   "metadata": {},
   "outputs": [
    {
     "data": {
      "text/html": [
       "<div>\n",
       "<style scoped>\n",
       "    .dataframe tbody tr th:only-of-type {\n",
       "        vertical-align: middle;\n",
       "    }\n",
       "\n",
       "    .dataframe tbody tr th {\n",
       "        vertical-align: top;\n",
       "    }\n",
       "\n",
       "    .dataframe thead th {\n",
       "        text-align: right;\n",
       "    }\n",
       "</style>\n",
       "<table border=\"1\" class=\"dataframe\">\n",
       "  <thead>\n",
       "    <tr style=\"text-align: right;\">\n",
       "      <th></th>\n",
       "      <th>Metric</th>\n",
       "    </tr>\n",
       "  </thead>\n",
       "  <tbody>\n",
       "    <tr>\n",
       "      <th>Constant_Median</th>\n",
       "      <td>1303.826966</td>\n",
       "    </tr>\n",
       "    <tr>\n",
       "      <th>Constant_Mean</th>\n",
       "      <td>128.457292</td>\n",
       "    </tr>\n",
       "    <tr>\n",
       "      <th>LinearRegression</th>\n",
       "      <td>178.575864</td>\n",
       "    </tr>\n",
       "    <tr>\n",
       "      <th>XGBRegressor</th>\n",
       "      <td>112.985021</td>\n",
       "    </tr>\n",
       "  </tbody>\n",
       "</table>\n",
       "</div>"
      ],
      "text/plain": [
       "                       Metric\n",
       "Constant_Median   1303.826966\n",
       "Constant_Mean      128.457292\n",
       "LinearRegression   178.575864\n",
       "XGBRegressor       112.985021"
      ]
     },
     "execution_count": 23,
     "metadata": {},
     "output_type": "execute_result"
    }
   ],
   "source": [
    "results"
   ]
  },
  {
   "cell_type": "markdown",
   "metadata": {},
   "source": [
    "# Задача 2.\n",
    "1. Проведите аналитику полученных данных\n",
    "2. Подготовьте данные для модели классификации\n",
    "3. Обучите модель классификации и осуществите прогноз для отложенной выборки с учетомо перекоса в данных TARGET\n",
    "4. Оцените качество модели с помощью функции f1_score"
   ]
  },
  {
   "cell_type": "markdown",
   "metadata": {},
   "source": [
    "### 1. Загрузка данных"
   ]
  },
  {
   "cell_type": "code",
   "execution_count": 24,
   "metadata": {},
   "outputs": [],
   "source": [
    "data=pd.read_csv('D:\\junior__test_DS\\junior\\classification\\data_classification_for_task.csv')"
   ]
  },
  {
   "cell_type": "code",
   "execution_count": 25,
   "metadata": {},
   "outputs": [
    {
     "data": {
      "text/html": [
       "<div>\n",
       "<style scoped>\n",
       "    .dataframe tbody tr th:only-of-type {\n",
       "        vertical-align: middle;\n",
       "    }\n",
       "\n",
       "    .dataframe tbody tr th {\n",
       "        vertical-align: top;\n",
       "    }\n",
       "\n",
       "    .dataframe thead th {\n",
       "        text-align: right;\n",
       "    }\n",
       "</style>\n",
       "<table border=\"1\" class=\"dataframe\">\n",
       "  <thead>\n",
       "    <tr style=\"text-align: right;\">\n",
       "      <th></th>\n",
       "      <th>AGE</th>\n",
       "      <th>GENDER</th>\n",
       "      <th>FEATURE_1</th>\n",
       "      <th>FEATURE_2</th>\n",
       "      <th>FEATURE_3</th>\n",
       "      <th>FEATURE_4</th>\n",
       "      <th>FEATURE_5</th>\n",
       "      <th>FEATURE_6</th>\n",
       "      <th>FEATURE_7</th>\n",
       "      <th>FEATURE_8</th>\n",
       "      <th>FEATURE_9</th>\n",
       "      <th>FEATURE_10</th>\n",
       "      <th>FEATURE_11</th>\n",
       "      <th>TARGET</th>\n",
       "    </tr>\n",
       "  </thead>\n",
       "  <tbody>\n",
       "    <tr>\n",
       "      <th>0</th>\n",
       "      <td>63</td>\n",
       "      <td>1</td>\n",
       "      <td>3</td>\n",
       "      <td>145</td>\n",
       "      <td>233</td>\n",
       "      <td>1</td>\n",
       "      <td>0</td>\n",
       "      <td>150</td>\n",
       "      <td>0</td>\n",
       "      <td>2.3</td>\n",
       "      <td>0</td>\n",
       "      <td>0</td>\n",
       "      <td>1</td>\n",
       "      <td>1</td>\n",
       "    </tr>\n",
       "    <tr>\n",
       "      <th>1</th>\n",
       "      <td>37</td>\n",
       "      <td>1</td>\n",
       "      <td>2</td>\n",
       "      <td>130</td>\n",
       "      <td>250</td>\n",
       "      <td>0</td>\n",
       "      <td>1</td>\n",
       "      <td>187</td>\n",
       "      <td>0</td>\n",
       "      <td>3.5</td>\n",
       "      <td>0</td>\n",
       "      <td>0</td>\n",
       "      <td>2</td>\n",
       "      <td>1</td>\n",
       "    </tr>\n",
       "    <tr>\n",
       "      <th>2</th>\n",
       "      <td>41</td>\n",
       "      <td>0</td>\n",
       "      <td>1</td>\n",
       "      <td>130</td>\n",
       "      <td>204</td>\n",
       "      <td>0</td>\n",
       "      <td>0</td>\n",
       "      <td>172</td>\n",
       "      <td>0</td>\n",
       "      <td>1.4</td>\n",
       "      <td>2</td>\n",
       "      <td>0</td>\n",
       "      <td>2</td>\n",
       "      <td>1</td>\n",
       "    </tr>\n",
       "    <tr>\n",
       "      <th>3</th>\n",
       "      <td>56</td>\n",
       "      <td>1</td>\n",
       "      <td>1</td>\n",
       "      <td>120</td>\n",
       "      <td>236</td>\n",
       "      <td>0</td>\n",
       "      <td>1</td>\n",
       "      <td>178</td>\n",
       "      <td>0</td>\n",
       "      <td>0.8</td>\n",
       "      <td>2</td>\n",
       "      <td>0</td>\n",
       "      <td>2</td>\n",
       "      <td>1</td>\n",
       "    </tr>\n",
       "    <tr>\n",
       "      <th>4</th>\n",
       "      <td>57</td>\n",
       "      <td>0</td>\n",
       "      <td>0</td>\n",
       "      <td>120</td>\n",
       "      <td>354</td>\n",
       "      <td>0</td>\n",
       "      <td>1</td>\n",
       "      <td>163</td>\n",
       "      <td>1</td>\n",
       "      <td>0.6</td>\n",
       "      <td>2</td>\n",
       "      <td>0</td>\n",
       "      <td>2</td>\n",
       "      <td>1</td>\n",
       "    </tr>\n",
       "  </tbody>\n",
       "</table>\n",
       "</div>"
      ],
      "text/plain": [
       "   AGE  GENDER  FEATURE_1  FEATURE_2  FEATURE_3  FEATURE_4  FEATURE_5  \\\n",
       "0   63       1          3        145        233          1          0   \n",
       "1   37       1          2        130        250          0          1   \n",
       "2   41       0          1        130        204          0          0   \n",
       "3   56       1          1        120        236          0          1   \n",
       "4   57       0          0        120        354          0          1   \n",
       "\n",
       "   FEATURE_6  FEATURE_7  FEATURE_8  FEATURE_9  FEATURE_10  FEATURE_11  TARGET  \n",
       "0        150          0        2.3          0           0           1       1  \n",
       "1        187          0        3.5          0           0           2       1  \n",
       "2        172          0        1.4          2           0           2       1  \n",
       "3        178          0        0.8          2           0           2       1  \n",
       "4        163          1        0.6          2           0           2       1  "
      ]
     },
     "execution_count": 25,
     "metadata": {},
     "output_type": "execute_result"
    }
   ],
   "source": [
    "data.head()"
   ]
  },
  {
   "cell_type": "markdown",
   "metadata": {},
   "source": [
    "**Описание:**\n",
    "* AGE: возраст пациента\n",
    "* GENDER: пол пациента\n",
    "* FEATURE1-11: характеристики здоровья сердечно-сосудстой системы пациента\n",
    "* TARGET: болен/не болен (целевая переменная)"
   ]
  },
  {
   "cell_type": "markdown",
   "metadata": {},
   "source": [
    "### 2. Анализ данных"
   ]
  },
  {
   "cell_type": "code",
   "execution_count": 26,
   "metadata": {},
   "outputs": [
    {
     "name": "stdout",
     "output_type": "stream",
     "text": [
      "<class 'pandas.core.frame.DataFrame'>\n",
      "RangeIndex: 303 entries, 0 to 302\n",
      "Data columns (total 14 columns):\n",
      " #   Column      Non-Null Count  Dtype  \n",
      "---  ------      --------------  -----  \n",
      " 0   AGE         303 non-null    int64  \n",
      " 1   GENDER      303 non-null    int64  \n",
      " 2   FEATURE_1   303 non-null    int64  \n",
      " 3   FEATURE_2   303 non-null    int64  \n",
      " 4   FEATURE_3   303 non-null    int64  \n",
      " 5   FEATURE_4   303 non-null    int64  \n",
      " 6   FEATURE_5   303 non-null    int64  \n",
      " 7   FEATURE_6   303 non-null    int64  \n",
      " 8   FEATURE_7   303 non-null    int64  \n",
      " 9   FEATURE_8   303 non-null    float64\n",
      " 10  FEATURE_9   303 non-null    int64  \n",
      " 11  FEATURE_10  303 non-null    int64  \n",
      " 12  FEATURE_11  303 non-null    int64  \n",
      " 13  TARGET      303 non-null    int64  \n",
      "dtypes: float64(1), int64(13)\n",
      "memory usage: 33.3 KB\n"
     ]
    }
   ],
   "source": [
    "data.info()"
   ]
  },
  {
   "cell_type": "code",
   "execution_count": 27,
   "metadata": {},
   "outputs": [
    {
     "data": {
      "text/html": [
       "<div>\n",
       "<style scoped>\n",
       "    .dataframe tbody tr th:only-of-type {\n",
       "        vertical-align: middle;\n",
       "    }\n",
       "\n",
       "    .dataframe tbody tr th {\n",
       "        vertical-align: top;\n",
       "    }\n",
       "\n",
       "    .dataframe thead th {\n",
       "        text-align: right;\n",
       "    }\n",
       "</style>\n",
       "<table border=\"1\" class=\"dataframe\">\n",
       "  <thead>\n",
       "    <tr style=\"text-align: right;\">\n",
       "      <th></th>\n",
       "      <th>AGE</th>\n",
       "      <th>GENDER</th>\n",
       "      <th>FEATURE_1</th>\n",
       "      <th>FEATURE_2</th>\n",
       "      <th>FEATURE_3</th>\n",
       "      <th>FEATURE_4</th>\n",
       "      <th>FEATURE_5</th>\n",
       "      <th>FEATURE_6</th>\n",
       "      <th>FEATURE_7</th>\n",
       "      <th>FEATURE_8</th>\n",
       "      <th>FEATURE_9</th>\n",
       "      <th>FEATURE_10</th>\n",
       "      <th>FEATURE_11</th>\n",
       "      <th>TARGET</th>\n",
       "    </tr>\n",
       "  </thead>\n",
       "  <tbody>\n",
       "    <tr>\n",
       "      <th>count</th>\n",
       "      <td>303.000000</td>\n",
       "      <td>303.000000</td>\n",
       "      <td>303.000000</td>\n",
       "      <td>303.000000</td>\n",
       "      <td>303.000000</td>\n",
       "      <td>303.000000</td>\n",
       "      <td>303.000000</td>\n",
       "      <td>303.000000</td>\n",
       "      <td>303.000000</td>\n",
       "      <td>303.000000</td>\n",
       "      <td>303.000000</td>\n",
       "      <td>303.000000</td>\n",
       "      <td>303.000000</td>\n",
       "      <td>303.000000</td>\n",
       "    </tr>\n",
       "    <tr>\n",
       "      <th>mean</th>\n",
       "      <td>54.366337</td>\n",
       "      <td>0.683168</td>\n",
       "      <td>0.966997</td>\n",
       "      <td>131.623762</td>\n",
       "      <td>246.264026</td>\n",
       "      <td>0.148515</td>\n",
       "      <td>0.528053</td>\n",
       "      <td>149.646865</td>\n",
       "      <td>0.326733</td>\n",
       "      <td>1.039604</td>\n",
       "      <td>1.399340</td>\n",
       "      <td>0.729373</td>\n",
       "      <td>2.313531</td>\n",
       "      <td>0.544554</td>\n",
       "    </tr>\n",
       "    <tr>\n",
       "      <th>std</th>\n",
       "      <td>9.082101</td>\n",
       "      <td>0.466011</td>\n",
       "      <td>1.032052</td>\n",
       "      <td>17.538143</td>\n",
       "      <td>51.830751</td>\n",
       "      <td>0.356198</td>\n",
       "      <td>0.525860</td>\n",
       "      <td>22.905161</td>\n",
       "      <td>0.469794</td>\n",
       "      <td>1.161075</td>\n",
       "      <td>0.616226</td>\n",
       "      <td>1.022606</td>\n",
       "      <td>0.612277</td>\n",
       "      <td>0.498835</td>\n",
       "    </tr>\n",
       "    <tr>\n",
       "      <th>min</th>\n",
       "      <td>29.000000</td>\n",
       "      <td>0.000000</td>\n",
       "      <td>0.000000</td>\n",
       "      <td>94.000000</td>\n",
       "      <td>126.000000</td>\n",
       "      <td>0.000000</td>\n",
       "      <td>0.000000</td>\n",
       "      <td>71.000000</td>\n",
       "      <td>0.000000</td>\n",
       "      <td>0.000000</td>\n",
       "      <td>0.000000</td>\n",
       "      <td>0.000000</td>\n",
       "      <td>0.000000</td>\n",
       "      <td>0.000000</td>\n",
       "    </tr>\n",
       "    <tr>\n",
       "      <th>25%</th>\n",
       "      <td>47.500000</td>\n",
       "      <td>0.000000</td>\n",
       "      <td>0.000000</td>\n",
       "      <td>120.000000</td>\n",
       "      <td>211.000000</td>\n",
       "      <td>0.000000</td>\n",
       "      <td>0.000000</td>\n",
       "      <td>133.500000</td>\n",
       "      <td>0.000000</td>\n",
       "      <td>0.000000</td>\n",
       "      <td>1.000000</td>\n",
       "      <td>0.000000</td>\n",
       "      <td>2.000000</td>\n",
       "      <td>0.000000</td>\n",
       "    </tr>\n",
       "    <tr>\n",
       "      <th>50%</th>\n",
       "      <td>55.000000</td>\n",
       "      <td>1.000000</td>\n",
       "      <td>1.000000</td>\n",
       "      <td>130.000000</td>\n",
       "      <td>240.000000</td>\n",
       "      <td>0.000000</td>\n",
       "      <td>1.000000</td>\n",
       "      <td>153.000000</td>\n",
       "      <td>0.000000</td>\n",
       "      <td>0.800000</td>\n",
       "      <td>1.000000</td>\n",
       "      <td>0.000000</td>\n",
       "      <td>2.000000</td>\n",
       "      <td>1.000000</td>\n",
       "    </tr>\n",
       "    <tr>\n",
       "      <th>75%</th>\n",
       "      <td>61.000000</td>\n",
       "      <td>1.000000</td>\n",
       "      <td>2.000000</td>\n",
       "      <td>140.000000</td>\n",
       "      <td>274.500000</td>\n",
       "      <td>0.000000</td>\n",
       "      <td>1.000000</td>\n",
       "      <td>166.000000</td>\n",
       "      <td>1.000000</td>\n",
       "      <td>1.600000</td>\n",
       "      <td>2.000000</td>\n",
       "      <td>1.000000</td>\n",
       "      <td>3.000000</td>\n",
       "      <td>1.000000</td>\n",
       "    </tr>\n",
       "    <tr>\n",
       "      <th>max</th>\n",
       "      <td>77.000000</td>\n",
       "      <td>1.000000</td>\n",
       "      <td>3.000000</td>\n",
       "      <td>200.000000</td>\n",
       "      <td>564.000000</td>\n",
       "      <td>1.000000</td>\n",
       "      <td>2.000000</td>\n",
       "      <td>202.000000</td>\n",
       "      <td>1.000000</td>\n",
       "      <td>6.200000</td>\n",
       "      <td>2.000000</td>\n",
       "      <td>4.000000</td>\n",
       "      <td>3.000000</td>\n",
       "      <td>1.000000</td>\n",
       "    </tr>\n",
       "  </tbody>\n",
       "</table>\n",
       "</div>"
      ],
      "text/plain": [
       "              AGE      GENDER   FEATURE_1   FEATURE_2   FEATURE_3   FEATURE_4  \\\n",
       "count  303.000000  303.000000  303.000000  303.000000  303.000000  303.000000   \n",
       "mean    54.366337    0.683168    0.966997  131.623762  246.264026    0.148515   \n",
       "std      9.082101    0.466011    1.032052   17.538143   51.830751    0.356198   \n",
       "min     29.000000    0.000000    0.000000   94.000000  126.000000    0.000000   \n",
       "25%     47.500000    0.000000    0.000000  120.000000  211.000000    0.000000   \n",
       "50%     55.000000    1.000000    1.000000  130.000000  240.000000    0.000000   \n",
       "75%     61.000000    1.000000    2.000000  140.000000  274.500000    0.000000   \n",
       "max     77.000000    1.000000    3.000000  200.000000  564.000000    1.000000   \n",
       "\n",
       "        FEATURE_5   FEATURE_6   FEATURE_7   FEATURE_8   FEATURE_9  FEATURE_10  \\\n",
       "count  303.000000  303.000000  303.000000  303.000000  303.000000  303.000000   \n",
       "mean     0.528053  149.646865    0.326733    1.039604    1.399340    0.729373   \n",
       "std      0.525860   22.905161    0.469794    1.161075    0.616226    1.022606   \n",
       "min      0.000000   71.000000    0.000000    0.000000    0.000000    0.000000   \n",
       "25%      0.000000  133.500000    0.000000    0.000000    1.000000    0.000000   \n",
       "50%      1.000000  153.000000    0.000000    0.800000    1.000000    0.000000   \n",
       "75%      1.000000  166.000000    1.000000    1.600000    2.000000    1.000000   \n",
       "max      2.000000  202.000000    1.000000    6.200000    2.000000    4.000000   \n",
       "\n",
       "       FEATURE_11      TARGET  \n",
       "count  303.000000  303.000000  \n",
       "mean     2.313531    0.544554  \n",
       "std      0.612277    0.498835  \n",
       "min      0.000000    0.000000  \n",
       "25%      2.000000    0.000000  \n",
       "50%      2.000000    1.000000  \n",
       "75%      3.000000    1.000000  \n",
       "max      3.000000    1.000000  "
      ]
     },
     "execution_count": 27,
     "metadata": {},
     "output_type": "execute_result"
    }
   ],
   "source": [
    "data.describe()"
   ]
  },
  {
   "cell_type": "markdown",
   "metadata": {},
   "source": [
    "В данных явно выделяются количественные и категориальные признаки. Разделим их и посмотрим на распределения, чтобы обнаружить потенциальные аномалии."
   ]
  },
  {
   "cell_type": "code",
   "execution_count": 28,
   "metadata": {},
   "outputs": [],
   "source": [
    "cat_features = ['GENDER', 'FEATURE_1', 'FEATURE_4', 'FEATURE_5', 'FEATURE_7', 'FEATURE_9', 'FEATURE_10', 'FEATURE_11']\n",
    "num_features = ['AGE', 'FEATURE_2', 'FEATURE_3', 'FEATURE_6', 'FEATURE_8']"
   ]
  },
  {
   "cell_type": "code",
   "execution_count": 29,
   "metadata": {},
   "outputs": [
    {
     "data": {
      "image/png": "[encoded data removed]",
      "text/plain": [
       "<Figure size 1152x1728 with 8 Axes>"
      ]
     },
     "metadata": {
      "needs_background": "light"
     },
     "output_type": "display_data"
    }
   ],
   "source": [
    "plt.figure(figsize=(16,24))\n",
    "plt.suptitle('Распределения категориальных признаков')\n",
    "i=1\n",
    "for col in cat_features:\n",
    "    plt.subplot(4, 2, i)\n",
    "    plt.hist(data[col])\n",
    "    plt.title(col)\n",
    "    plt.grid()\n",
    "    i+=1\n",
    "plt.show()"
   ]
  },
  {
   "cell_type": "code",
   "execution_count": 30,
   "metadata": {},
   "outputs": [
    {
     "data": {
      "image/png": "[encoded data removed]",
      "text/plain": [
       "<Figure size 1152x1728 with 5 Axes>"
      ]
     },
     "metadata": {
      "needs_background": "light"
     },
     "output_type": "display_data"
    }
   ],
   "source": [
    "plt.figure(figsize=(16,24))\n",
    "i=1\n",
    "plt.suptitle('Распределения количественных признаков')\n",
    "for col in num_features:\n",
    "    plt.subplot(5, 1, i)\n",
    "    plt.hist(data[col], bins=50)\n",
    "    plt.title(col)\n",
    "    plt.grid()\n",
    "    i+=1\n",
    "plt.show()"
   ]
  },
  {
   "cell_type": "markdown",
   "metadata": {},
   "source": [
    "Сильных аномалий не обнаружено. Анализируем целевой признак."
   ]
  },
  {
   "cell_type": "code",
   "execution_count": 31,
   "metadata": {},
   "outputs": [
    {
     "data": {
      "image/png": "[encoded data removed]",
      "text/plain": [
       "<Figure size 432x288 with 1 Axes>"
      ]
     },
     "metadata": {
      "needs_background": "light"
     },
     "output_type": "display_data"
    }
   ],
   "source": [
    "target = data['TARGET']\n",
    "plt.hist(target)\n",
    "plt.show()"
   ]
  },
  {
   "cell_type": "markdown",
   "metadata": {},
   "source": [
    "Имеется небольшой дисбаланс классов. Но не критичный. Будем использовать балансировку весов при обучении моделей."
   ]
  },
  {
   "cell_type": "markdown",
   "metadata": {},
   "source": [
    "### 3. Подготовка признаков"
   ]
  },
  {
   "cell_type": "code",
   "execution_count": 32,
   "metadata": {},
   "outputs": [],
   "source": [
    "features=data.drop(['TARGET'], axis=1)"
   ]
  },
  {
   "cell_type": "code",
   "execution_count": 33,
   "metadata": {},
   "outputs": [],
   "source": [
    "# кодируем категориальные признаки OHE\n",
    "features = pd.get_dummies(features, columns=cat_features)"
   ]
  },
  {
   "cell_type": "code",
   "execution_count": 34,
   "metadata": {},
   "outputs": [
    {
     "name": "stdout",
     "output_type": "stream",
     "text": [
      "Features train: (242, 30)\n",
      "Target train: (242,)\n",
      "Features test: (61, 30)\n",
      "Target test: (61,)\n"
     ]
    }
   ],
   "source": [
    "# разбиваем на трейн-тест выборки\n",
    "X_train, X_test, y_train, y_test = train_test_split(features, target, test_size=0.2, random_state=12345)\n",
    "print('Features train:', X_train.shape)\n",
    "print('Target train:', y_train.shape)\n",
    "print('Features test:', X_test.shape)\n",
    "print('Target test:', y_test.shape)"
   ]
  },
  {
   "cell_type": "code",
   "execution_count": 35,
   "metadata": {},
   "outputs": [],
   "source": [
    "# нормируем количественные признаки через StandartScaler\n",
    "scaler = StandardScaler()\n",
    "scaler.fit(X_train[num_features])\n",
    "\n",
    "X_train[num_features]=scaler.transform(X_train[num_features])\n",
    "X_test[num_features]=scaler.transform(X_test[num_features])"
   ]
  },
  {
   "cell_type": "code",
   "execution_count": 36,
   "metadata": {},
   "outputs": [
    {
     "data": {
      "text/html": [
       "<div>\n",
       "<style scoped>\n",
       "    .dataframe tbody tr th:only-of-type {\n",
       "        vertical-align: middle;\n",
       "    }\n",
       "\n",
       "    .dataframe tbody tr th {\n",
       "        vertical-align: top;\n",
       "    }\n",
       "\n",
       "    .dataframe thead th {\n",
       "        text-align: right;\n",
       "    }\n",
       "</style>\n",
       "<table border=\"1\" class=\"dataframe\">\n",
       "  <thead>\n",
       "    <tr style=\"text-align: right;\">\n",
       "      <th></th>\n",
       "      <th>AGE</th>\n",
       "      <th>FEATURE_2</th>\n",
       "      <th>FEATURE_3</th>\n",
       "      <th>FEATURE_6</th>\n",
       "      <th>FEATURE_8</th>\n",
       "      <th>GENDER_0</th>\n",
       "      <th>GENDER_1</th>\n",
       "      <th>FEATURE_1_0</th>\n",
       "      <th>FEATURE_1_1</th>\n",
       "      <th>FEATURE_1_2</th>\n",
       "      <th>...</th>\n",
       "      <th>FEATURE_9_2</th>\n",
       "      <th>FEATURE_10_0</th>\n",
       "      <th>FEATURE_10_1</th>\n",
       "      <th>FEATURE_10_2</th>\n",
       "      <th>FEATURE_10_3</th>\n",
       "      <th>FEATURE_10_4</th>\n",
       "      <th>FEATURE_11_0</th>\n",
       "      <th>FEATURE_11_1</th>\n",
       "      <th>FEATURE_11_2</th>\n",
       "      <th>FEATURE_11_3</th>\n",
       "    </tr>\n",
       "  </thead>\n",
       "  <tbody>\n",
       "    <tr>\n",
       "      <th>97</th>\n",
       "      <td>-0.259200</td>\n",
       "      <td>-1.291693</td>\n",
       "      <td>-0.218907</td>\n",
       "      <td>-0.085712</td>\n",
       "      <td>-0.780635</td>\n",
       "      <td>0</td>\n",
       "      <td>1</td>\n",
       "      <td>1</td>\n",
       "      <td>0</td>\n",
       "      <td>0</td>\n",
       "      <td>...</td>\n",
       "      <td>1</td>\n",
       "      <td>0</td>\n",
       "      <td>0</td>\n",
       "      <td>0</td>\n",
       "      <td>1</td>\n",
       "      <td>0</td>\n",
       "      <td>0</td>\n",
       "      <td>0</td>\n",
       "      <td>0</td>\n",
       "      <td>1</td>\n",
       "    </tr>\n",
       "    <tr>\n",
       "      <th>224</th>\n",
       "      <td>-0.035177</td>\n",
       "      <td>-1.180154</td>\n",
       "      <td>-0.097357</td>\n",
       "      <td>-0.985683</td>\n",
       "      <td>1.631028</td>\n",
       "      <td>0</td>\n",
       "      <td>1</td>\n",
       "      <td>1</td>\n",
       "      <td>0</td>\n",
       "      <td>0</td>\n",
       "      <td>...</td>\n",
       "      <td>0</td>\n",
       "      <td>0</td>\n",
       "      <td>1</td>\n",
       "      <td>0</td>\n",
       "      <td>0</td>\n",
       "      <td>0</td>\n",
       "      <td>0</td>\n",
       "      <td>0</td>\n",
       "      <td>0</td>\n",
       "      <td>1</td>\n",
       "    </tr>\n",
       "    <tr>\n",
       "      <th>174</th>\n",
       "      <td>0.636892</td>\n",
       "      <td>-0.064758</td>\n",
       "      <td>-0.765880</td>\n",
       "      <td>-0.728548</td>\n",
       "      <td>1.273745</td>\n",
       "      <td>0</td>\n",
       "      <td>1</td>\n",
       "      <td>1</td>\n",
       "      <td>0</td>\n",
       "      <td>0</td>\n",
       "      <td>...</td>\n",
       "      <td>0</td>\n",
       "      <td>0</td>\n",
       "      <td>0</td>\n",
       "      <td>1</td>\n",
       "      <td>0</td>\n",
       "      <td>0</td>\n",
       "      <td>0</td>\n",
       "      <td>0</td>\n",
       "      <td>0</td>\n",
       "      <td>1</td>\n",
       "    </tr>\n",
       "    <tr>\n",
       "      <th>53</th>\n",
       "      <td>-1.155292</td>\n",
       "      <td>-1.291693</td>\n",
       "      <td>-2.082668</td>\n",
       "      <td>1.114250</td>\n",
       "      <td>-0.334030</td>\n",
       "      <td>1</td>\n",
       "      <td>0</td>\n",
       "      <td>0</td>\n",
       "      <td>0</td>\n",
       "      <td>1</td>\n",
       "      <td>...</td>\n",
       "      <td>0</td>\n",
       "      <td>1</td>\n",
       "      <td>0</td>\n",
       "      <td>0</td>\n",
       "      <td>0</td>\n",
       "      <td>0</td>\n",
       "      <td>0</td>\n",
       "      <td>0</td>\n",
       "      <td>1</td>\n",
       "      <td>0</td>\n",
       "    </tr>\n",
       "    <tr>\n",
       "      <th>234</th>\n",
       "      <td>1.757007</td>\n",
       "      <td>-0.064758</td>\n",
       "      <td>1.584080</td>\n",
       "      <td>-1.714231</td>\n",
       "      <td>1.273745</td>\n",
       "      <td>0</td>\n",
       "      <td>1</td>\n",
       "      <td>1</td>\n",
       "      <td>0</td>\n",
       "      <td>0</td>\n",
       "      <td>...</td>\n",
       "      <td>0</td>\n",
       "      <td>0</td>\n",
       "      <td>0</td>\n",
       "      <td>0</td>\n",
       "      <td>1</td>\n",
       "      <td>0</td>\n",
       "      <td>0</td>\n",
       "      <td>0</td>\n",
       "      <td>1</td>\n",
       "      <td>0</td>\n",
       "    </tr>\n",
       "  </tbody>\n",
       "</table>\n",
       "<p>5 rows × 30 columns</p>\n",
       "</div>"
      ],
      "text/plain": [
       "          AGE  FEATURE_2  FEATURE_3  FEATURE_6  FEATURE_8  GENDER_0  GENDER_1  \\\n",
       "97  -0.259200  -1.291693  -0.218907  -0.085712  -0.780635         0         1   \n",
       "224 -0.035177  -1.180154  -0.097357  -0.985683   1.631028         0         1   \n",
       "174  0.636892  -0.064758  -0.765880  -0.728548   1.273745         0         1   \n",
       "53  -1.155292  -1.291693  -2.082668   1.114250  -0.334030         1         0   \n",
       "234  1.757007  -0.064758   1.584080  -1.714231   1.273745         0         1   \n",
       "\n",
       "     FEATURE_1_0  FEATURE_1_1  FEATURE_1_2  ...  FEATURE_9_2  FEATURE_10_0  \\\n",
       "97             1            0            0  ...            1             0   \n",
       "224            1            0            0  ...            0             0   \n",
       "174            1            0            0  ...            0             0   \n",
       "53             0            0            1  ...            0             1   \n",
       "234            1            0            0  ...            0             0   \n",
       "\n",
       "     FEATURE_10_1  FEATURE_10_2  FEATURE_10_3  FEATURE_10_4  FEATURE_11_0  \\\n",
       "97              0             0             1             0             0   \n",
       "224             1             0             0             0             0   \n",
       "174             0             1             0             0             0   \n",
       "53              0             0             0             0             0   \n",
       "234             0             0             1             0             0   \n",
       "\n",
       "     FEATURE_11_1  FEATURE_11_2  FEATURE_11_3  \n",
       "97              0             0             1  \n",
       "224             0             0             1  \n",
       "174             0             0             1  \n",
       "53              0             1             0  \n",
       "234             0             1             0  \n",
       "\n",
       "[5 rows x 30 columns]"
      ]
     },
     "execution_count": 36,
     "metadata": {},
     "output_type": "execute_result"
    }
   ],
   "source": [
    "X_train.head()"
   ]
  },
  {
   "cell_type": "markdown",
   "metadata": {},
   "source": [
    "Всё готово для обучения и тестирования.\n",
    "\n",
    "### 4. Обучение и тестирование моделей"
   ]
  },
  {
   "cell_type": "code",
   "execution_count": 37,
   "metadata": {},
   "outputs": [],
   "source": [
    "# функция для тестирования и скоринга\n",
    "def test_me(cur_model):    \n",
    "    probabilities_test = cur_model.predict_proba(X_test)\n",
    "    probabilities_one_test = probabilities_test[:, 1]\n",
    "    fpr, tpr, thresholds = roc_curve(y_test, probabilities_one_test)\n",
    "    \n",
    "    # F1 score\n",
    "    predictions = cur_model.predict(X_test)\n",
    "    f1=f1_score(y_test, predictions)\n",
    "    print('F1_Score=',f1)\n",
    "    \n",
    "    #график\n",
    "    plt.figure()\n",
    "    plt.plot(fpr, tpr)\n",
    "    plt.plot([0, 1], [0, 1], linestyle='--')\n",
    "    plt.xlim([0,1])\n",
    "    plt.ylim([0,1])\n",
    "    plt.xlabel('False Positive Rate')\n",
    "    plt.ylabel('True Positive Rate')\n",
    "    plt.title('ROC-кривая')\n",
    "    \n",
    "    plt.show()  \n",
    "    return f1"
   ]
  },
  {
   "cell_type": "code",
   "execution_count": 38,
   "metadata": {},
   "outputs": [],
   "source": [
    "results_class = pd.DataFrame(columns=['F1_Score'])"
   ]
  },
  {
   "cell_type": "markdown",
   "metadata": {},
   "source": [
    "#### 4.1 Dummy-модель (только класс 1)"
   ]
  },
  {
   "cell_type": "code",
   "execution_count": 39,
   "metadata": {},
   "outputs": [
    {
     "name": "stdout",
     "output_type": "stream",
     "text": [
      "F1-score для константной модели(только 1): 0.7422680412371134\n"
     ]
    }
   ],
   "source": [
    "dummy_pred = np.full(y_test.shape, 1)\n",
    "print('F1-score для константной модели(только 1):', f1_score(y_test, dummy_pred))\n",
    "\n",
    "results_class.loc['Constant_ones']=f1_score(y_test, dummy_pred)"
   ]
  },
  {
   "cell_type": "code",
   "execution_count": null,
   "metadata": {},
   "outputs": [],
   "source": []
  },
  {
   "cell_type": "markdown",
   "metadata": {},
   "source": [
    "#### 4.2 LogisticRegression (baseline)"
   ]
  },
  {
   "cell_type": "code",
   "execution_count": 40,
   "metadata": {},
   "outputs": [
    {
     "data": {
      "text/plain": [
       "LogisticRegression(class_weight='balanced')"
      ]
     },
     "execution_count": 40,
     "metadata": {},
     "output_type": "execute_result"
    }
   ],
   "source": [
    "logr_m=LogisticRegression(class_weight='balanced')\n",
    "logr_m.fit(X_train, y_train)"
   ]
  },
  {
   "cell_type": "code",
   "execution_count": 41,
   "metadata": {},
   "outputs": [
    {
     "name": "stdout",
     "output_type": "stream",
     "text": [
      "F1_Score= 0.7692307692307692\n"
     ]
    },
    {
     "data": {
      "image/png": "[encoded data removed]",
      "text/plain": [
       "<Figure size 432x288 with 1 Axes>"
      ]
     },
     "metadata": {
      "needs_background": "light"
     },
     "output_type": "display_data"
    }
   ],
   "source": [
    "logr_f1 = test_me(logr_m)\n",
    "results_class.loc['LogisticRegression']=logr_f1"
   ]
  },
  {
   "cell_type": "markdown",
   "metadata": {},
   "source": [
    "Оценим важность признаков на примере логистической регрессии."
   ]
  },
  {
   "cell_type": "code",
   "execution_count": 42,
   "metadata": {},
   "outputs": [
    {
     "data": {
      "image/png": "[encoded data removed]",
      "text/plain": [
       "<Figure size 1080x720 with 1 Axes>"
      ]
     },
     "metadata": {
      "needs_background": "light"
     },
     "output_type": "display_data"
    }
   ],
   "source": [
    "# посмотрим на примере лог.регрессии\n",
    "model = LogisticRegression(class_weight='balanced')\n",
    "model.fit(X_train, y_train)\n",
    "\n",
    "importance = model.coef_[0]\n",
    "\n",
    "# собираем датафрейм с данными\n",
    "feat_imp=pd.DataFrame()\n",
    "feat_imp['Feature']=X_train.columns\n",
    "feat_imp['Imp_score'] = importance\n",
    "\n",
    "# строим график\n",
    "plt.figure(figsize=(15,10))\n",
    "plt.grid(axis='both', which='both')\n",
    "plt.title('Feature importance scores')\n",
    "sns.barplot(x='Imp_score', y='Feature', data=feat_imp.sort_values(by='Imp_score', ascending=False), palette='rocket_r')\n",
    "plt.show()"
   ]
  },
  {
   "cell_type": "markdown",
   "metadata": {},
   "source": [
    "`FEATURE_5` и `AGE` оказывают небольшое влияние на результаты. В целом, для дальнейшего совершенствования модели, их можно будет не учитывать."
   ]
  },
  {
   "cell_type": "markdown",
   "metadata": {},
   "source": [
    "#### 4.3 CatboostClassifier"
   ]
  },
  {
   "cell_type": "code",
   "execution_count": 43,
   "metadata": {},
   "outputs": [],
   "source": [
    "def CB_cv_grid():\n",
    "    cb_m = cb.CatBoostClassifier(random_state=112211)\n",
    "    param_grid = {\n",
    "            \"iterations\"        : [2000],\n",
    "            \"learning_rate\"     : [0.1, 1],\n",
    "            \"l2_leaf_reg\" : [6],\n",
    "            \"max_depth\": [6],\n",
    "            \"max_leaves\" : [31],\n",
    "            'verbose' : [0],\n",
    "            'auto_class_weights': ['Balanced']\n",
    "            }\n",
    "\n",
    "    lgb_grid = GridSearchCV(cb_m, param_grid, n_jobs=-1, cv=3, scoring='f1')\n",
    "    lgb_grid.fit(X_train, y_train)\n",
    "\n",
    "    print('...Search completed...')\n",
    "    print('Best params:', lgb_grid.best_params_)\n",
    "    return lgb_grid.best_params_"
   ]
  },
  {
   "cell_type": "code",
   "execution_count": 44,
   "metadata": {},
   "outputs": [
    {
     "name": "stdout",
     "output_type": "stream",
     "text": [
      "...Search completed...\n",
      "Best params: {'auto_class_weights': 'Balanced', 'iterations': 2000, 'l2_leaf_reg': 6, 'learning_rate': 0.1, 'max_depth': 6, 'max_leaves': 31, 'verbose': 0}\n"
     ]
    }
   ],
   "source": [
    "cb_params=CB_cv_grid()"
   ]
  },
  {
   "cell_type": "code",
   "execution_count": 45,
   "metadata": {},
   "outputs": [
    {
     "data": {
      "text/plain": [
       "<catboost.core.CatBoostClassifier at 0x1fcaf90e748>"
      ]
     },
     "execution_count": 45,
     "metadata": {},
     "output_type": "execute_result"
    }
   ],
   "source": [
    "cbc_m=cb.CatBoostClassifier(**cb_params)\n",
    "cbc_m.fit(X_train, y_train)"
   ]
  },
  {
   "cell_type": "code",
   "execution_count": 46,
   "metadata": {},
   "outputs": [
    {
     "name": "stdout",
     "output_type": "stream",
     "text": [
      "F1_Score= 0.8125000000000001\n"
     ]
    },
    {
     "data": {
      "image/png": "[encoded data removed]",
      "text/plain": [
       "<Figure size 432x288 with 1 Axes>"
      ]
     },
     "metadata": {
      "needs_background": "light"
     },
     "output_type": "display_data"
    }
   ],
   "source": [
    "cb_f1 = test_me(cbc_m)\n",
    "results_class.loc['CatBoostClassifier']=cb_f1"
   ]
  },
  {
   "cell_type": "markdown",
   "metadata": {},
   "source": [
    "### 5. Результаты\n",
    "\n",
    "Входными данными были данные о пациентах и характеристики их сердечно-сосудистой системы. Целевой признак для классификации - болен пациент или нет.\n",
    "\n",
    "Данные были обработаны и проанализированы. Аномалий, пропусков не обнаружено.\n",
    "\n",
    "Были выделены количественные и категориальные признаки для обучения. Количественные были стандартизованы, категориальные закодированы One-Hot-Encoding. Данные были разбиты на тренировочную и тестовую выборки. <br/>\n",
    "На основе логистической регрессии был проведён анализ влияния признаков на качество прогноза.\n",
    "\n",
    "Были обучены и протестированы несколько моделей: константная (только класс 1), логистическая регрессия и бустинговая модель CatBoost. В качестве целевой метрики использовалась F1_score. <br/>\n",
    "\n",
    "**Предложения** дальнейшего развитие для улучшения качества предсказаний:\n",
    "* Собрать больше данных\n",
    "* Выделить наиболее важные признаки\n",
    "* Тюнинг модели для повышения целевой метрики\n",
    "\n",
    "Результаты моделирования:"
   ]
  },
  {
   "cell_type": "code",
   "execution_count": 47,
   "metadata": {},
   "outputs": [
    {
     "data": {
      "text/html": [
       "<div>\n",
       "<style scoped>\n",
       "    .dataframe tbody tr th:only-of-type {\n",
       "        vertical-align: middle;\n",
       "    }\n",
       "\n",
       "    .dataframe tbody tr th {\n",
       "        vertical-align: top;\n",
       "    }\n",
       "\n",
       "    .dataframe thead th {\n",
       "        text-align: right;\n",
       "    }\n",
       "</style>\n",
       "<table border=\"1\" class=\"dataframe\">\n",
       "  <thead>\n",
       "    <tr style=\"text-align: right;\">\n",
       "      <th></th>\n",
       "      <th>F1_Score</th>\n",
       "    </tr>\n",
       "  </thead>\n",
       "  <tbody>\n",
       "    <tr>\n",
       "      <th>Constant_ones</th>\n",
       "      <td>0.742268</td>\n",
       "    </tr>\n",
       "    <tr>\n",
       "      <th>LogisticRegression</th>\n",
       "      <td>0.769231</td>\n",
       "    </tr>\n",
       "    <tr>\n",
       "      <th>CatBoostClassifier</th>\n",
       "      <td>0.812500</td>\n",
       "    </tr>\n",
       "  </tbody>\n",
       "</table>\n",
       "</div>"
      ],
      "text/plain": [
       "                    F1_Score\n",
       "Constant_ones       0.742268\n",
       "LogisticRegression  0.769231\n",
       "CatBoostClassifier  0.812500"
      ]
     },
     "execution_count": 47,
     "metadata": {},
     "output_type": "execute_result"
    }
   ],
   "source": [
    "results_class"
   ]
  }
 ],
 "metadata": {
  "kernelspec": {
   "display_name": "Python 3",
   "language": "python",
   "name": "python3"
  },
  "language_info": {
   "codemirror_mode": {
    "name": "ipython",
    "version": 3
   },
   "file_extension": ".py",
   "mimetype": "text/x-python",
   "name": "python",
   "nbconvert_exporter": "python",
   "pygments_lexer": "ipython3",
   "version": "3.7.7"
  }
 },
 "nbformat": 4,
 "nbformat_minor": 4
}
